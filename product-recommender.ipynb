{
 "cells": [
  {
   "cell_type": "markdown",
   "id": "49385fdd",
   "metadata": {
    "papermill": {
     "duration": 0.010703,
     "end_time": "2023-02-11T15:12:28.327047",
     "exception": false,
     "start_time": "2023-02-11T15:12:28.316344",
     "status": "completed"
    },
    "tags": []
   },
   "source": [
    "# Introduction\n",
    "- Understand the Sample dataset and perform pre-process on it. \n",
    "- Perform Exploratary Data Analysis and Select the important features.\n",
    "- Make a sample ML model for Predicting suitable solution(Product) on the basis of test parameters.\n",
    "- Input = n-number of Parameters\n",
    "- Output = Product Class [Agtech,RightAngle,Openlink,Allegro]"
   ]
  },
  {
   "cell_type": "markdown",
   "id": "5ec55194",
   "metadata": {
    "papermill": {
     "duration": 0.008797,
     "end_time": "2023-02-11T15:12:28.345793",
     "exception": false,
     "start_time": "2023-02-11T15:12:28.336996",
     "status": "completed"
    },
    "tags": []
   },
   "source": [
    "# Import libraries and Dataset"
   ]
  },
  {
   "cell_type": "code",
   "execution_count": 1,
   "id": "835779d3",
   "metadata": {
    "execution": {
     "iopub.execute_input": "2023-02-11T15:12:28.366776Z",
     "iopub.status.busy": "2023-02-11T15:12:28.365913Z",
     "iopub.status.idle": "2023-02-11T15:12:29.568482Z",
     "shell.execute_reply": "2023-02-11T15:12:29.567111Z"
    },
    "papermill": {
     "duration": 1.21699,
     "end_time": "2023-02-11T15:12:29.572298",
     "exception": false,
     "start_time": "2023-02-11T15:12:28.355308",
     "status": "completed"
    },
    "tags": []
   },
   "outputs": [
    {
     "name": "stdout",
     "output_type": "stream",
     "text": [
      "/kaggle/input/company-dataset/Big_startup_succees_dataset.csv\n",
      "/kaggle/input/company-dataset/Big_Companies1000.csv\n",
      "/kaggle/input/commodities-dataset/Commodities_Comparables.xlsx\n"
     ]
    }
   ],
   "source": [
    "import pandas as pd\n",
    "import numpy as np\n",
    "import matplotlib.pyplot as plt\n",
    "%matplotlib inline\n",
    "import seaborn as sns\n",
    "\n",
    "# Python 3 environment\n",
    "import os\n",
    "for dirname, _, filenames in os.walk('/kaggle/input'):\n",
    "    for filename in filenames:\n",
    "        print(os.path.join(dirname, filename))"
   ]
  },
  {
   "cell_type": "code",
   "execution_count": 2,
   "id": "83e0db61",
   "metadata": {
    "execution": {
     "iopub.execute_input": "2023-02-11T15:12:29.593155Z",
     "iopub.status.busy": "2023-02-11T15:12:29.592703Z",
     "iopub.status.idle": "2023-02-11T15:12:30.112979Z",
     "shell.execute_reply": "2023-02-11T15:12:30.111674Z"
    },
    "papermill": {
     "duration": 0.533527,
     "end_time": "2023-02-11T15:12:30.115687",
     "exception": false,
     "start_time": "2023-02-11T15:12:29.582160",
     "status": "completed"
    },
    "tags": []
   },
   "outputs": [],
   "source": [
    "df_orignal = pd.read_excel('/kaggle/input/commodities-dataset/Commodities_Comparables.xlsx')\n",
    "df = df_orignal"
   ]
  },
  {
   "cell_type": "code",
   "execution_count": 3,
   "id": "0dfec787",
   "metadata": {
    "execution": {
     "iopub.execute_input": "2023-02-11T15:12:30.138688Z",
     "iopub.status.busy": "2023-02-11T15:12:30.137466Z",
     "iopub.status.idle": "2023-02-11T15:12:30.164522Z",
     "shell.execute_reply": "2023-02-11T15:12:30.163311Z"
    },
    "papermill": {
     "duration": 0.042173,
     "end_time": "2023-02-11T15:12:30.167655",
     "exception": false,
     "start_time": "2023-02-11T15:12:30.125482",
     "status": "completed"
    },
    "tags": []
   },
   "outputs": [
    {
     "data": {
      "text/html": [
       "<div>\n",
       "<style scoped>\n",
       "    .dataframe tbody tr th:only-of-type {\n",
       "        vertical-align: middle;\n",
       "    }\n",
       "\n",
       "    .dataframe tbody tr th {\n",
       "        vertical-align: top;\n",
       "    }\n",
       "\n",
       "    .dataframe thead th {\n",
       "        text-align: right;\n",
       "    }\n",
       "</style>\n",
       "<table border=\"1\" class=\"dataframe\">\n",
       "  <thead>\n",
       "    <tr style=\"text-align: right;\">\n",
       "      <th></th>\n",
       "      <th>Client</th>\n",
       "      <th>Solution</th>\n",
       "      <th>Industry</th>\n",
       "      <th>Sector</th>\n",
       "      <th>Region</th>\n",
       "      <th>User Count</th>\n",
       "      <th>Delivery</th>\n",
       "      <th>Commodities_Traded__c</th>\n",
       "    </tr>\n",
       "  </thead>\n",
       "  <tbody>\n",
       "    <tr>\n",
       "      <th>0</th>\n",
       "      <td>6085551</td>\n",
       "      <td>Agtech</td>\n",
       "      <td>Agriculture &amp; CPG</td>\n",
       "      <td>Processor</td>\n",
       "      <td>Americas</td>\n",
       "      <td>7.0</td>\n",
       "      <td>NaN</td>\n",
       "      <td>Grains &amp; Oilseeds;Biofuels;C&amp;S (RINs, LCFS, RTFO)</td>\n",
       "    </tr>\n",
       "    <tr>\n",
       "      <th>1</th>\n",
       "      <td>9545824</td>\n",
       "      <td>Agtech</td>\n",
       "      <td>Agriculture &amp; CPG</td>\n",
       "      <td>Originator</td>\n",
       "      <td>Americas</td>\n",
       "      <td>3.0</td>\n",
       "      <td>NaN</td>\n",
       "      <td>Grains &amp; Oilseeds</td>\n",
       "    </tr>\n",
       "    <tr>\n",
       "      <th>2</th>\n",
       "      <td>8676609</td>\n",
       "      <td>Agtech</td>\n",
       "      <td>Agriculture &amp; CPG</td>\n",
       "      <td>Trader</td>\n",
       "      <td>Americas</td>\n",
       "      <td>40.0</td>\n",
       "      <td>NaN</td>\n",
       "      <td>Grains &amp; Oilseeds</td>\n",
       "    </tr>\n",
       "    <tr>\n",
       "      <th>3</th>\n",
       "      <td>5760132</td>\n",
       "      <td>Agtech</td>\n",
       "      <td>Agriculture &amp; CPG</td>\n",
       "      <td>Processor</td>\n",
       "      <td>Americas</td>\n",
       "      <td>20.0</td>\n",
       "      <td>NaN</td>\n",
       "      <td>Grains &amp; Oilseeds;Biofuels;C&amp;S (RINs, LCFS, RTFO)</td>\n",
       "    </tr>\n",
       "    <tr>\n",
       "      <th>4</th>\n",
       "      <td>1720710</td>\n",
       "      <td>Allegro</td>\n",
       "      <td>Utilities &amp; Power</td>\n",
       "      <td>Utility</td>\n",
       "      <td>Americas</td>\n",
       "      <td>75.0</td>\n",
       "      <td>NaN</td>\n",
       "      <td>Power - Americas;Emissions;C&amp;S (RINs, LCFS, RTFO)</td>\n",
       "    </tr>\n",
       "  </tbody>\n",
       "</table>\n",
       "</div>"
      ],
      "text/plain": [
       "    Client Solution           Industry      Sector    Region  User Count  \\\n",
       "0  6085551   Agtech  Agriculture & CPG   Processor  Americas         7.0   \n",
       "1  9545824   Agtech  Agriculture & CPG  Originator  Americas         3.0   \n",
       "2  8676609   Agtech  Agriculture & CPG      Trader  Americas        40.0   \n",
       "3  5760132   Agtech  Agriculture & CPG   Processor  Americas        20.0   \n",
       "4  1720710  Allegro  Utilities & Power     Utility  Americas        75.0   \n",
       "\n",
       "  Delivery                              Commodities_Traded__c  \n",
       "0      NaN  Grains & Oilseeds;Biofuels;C&S (RINs, LCFS, RTFO)  \n",
       "1      NaN                                  Grains & Oilseeds  \n",
       "2      NaN                                  Grains & Oilseeds  \n",
       "3      NaN  Grains & Oilseeds;Biofuels;C&S (RINs, LCFS, RTFO)  \n",
       "4      NaN  Power - Americas;Emissions;C&S (RINs, LCFS, RTFO)  "
      ]
     },
     "execution_count": 3,
     "metadata": {},
     "output_type": "execute_result"
    }
   ],
   "source": [
    "df.head()"
   ]
  },
  {
   "cell_type": "markdown",
   "id": "0035578c",
   "metadata": {
    "papermill": {
     "duration": 0.010918,
     "end_time": "2023-02-11T15:12:30.189259",
     "exception": false,
     "start_time": "2023-02-11T15:12:30.178341",
     "status": "completed"
    },
    "tags": []
   },
   "source": [
    "# EDA"
   ]
  },
  {
   "cell_type": "code",
   "execution_count": 4,
   "id": "fbf156bd",
   "metadata": {
    "execution": {
     "iopub.execute_input": "2023-02-11T15:12:30.216680Z",
     "iopub.status.busy": "2023-02-11T15:12:30.215201Z",
     "iopub.status.idle": "2023-02-11T15:12:30.269835Z",
     "shell.execute_reply": "2023-02-11T15:12:30.268375Z"
    },
    "papermill": {
     "duration": 0.072239,
     "end_time": "2023-02-11T15:12:30.272847",
     "exception": false,
     "start_time": "2023-02-11T15:12:30.200608",
     "status": "completed"
    },
    "tags": []
   },
   "outputs": [
    {
     "name": "stdout",
     "output_type": "stream",
     "text": [
      "Index(['Client', 'Solution', 'Industry', 'Sector', 'Region', 'User Count',\n",
      "       'Delivery', 'Commodities_Traded__c'],\n",
      "      dtype='object')\n",
      "<class 'pandas.core.frame.DataFrame'>\n",
      "RangeIndex: 711 entries, 0 to 710\n",
      "Data columns (total 8 columns):\n",
      " #   Column                 Non-Null Count  Dtype  \n",
      "---  ------                 --------------  -----  \n",
      " 0   Client                 711 non-null    int64  \n",
      " 1   Solution               711 non-null    object \n",
      " 2   Industry               711 non-null    object \n",
      " 3   Sector                 711 non-null    object \n",
      " 4   Region                 711 non-null    object \n",
      " 5   User Count             555 non-null    float64\n",
      " 6   Delivery               7 non-null      object \n",
      " 7   Commodities_Traded__c  624 non-null    object \n",
      "dtypes: float64(1), int64(1), object(6)\n",
      "memory usage: 44.6+ KB\n",
      "None\n"
     ]
    },
    {
     "data": {
      "text/html": [
       "<div>\n",
       "<style scoped>\n",
       "    .dataframe tbody tr th:only-of-type {\n",
       "        vertical-align: middle;\n",
       "    }\n",
       "\n",
       "    .dataframe tbody tr th {\n",
       "        vertical-align: top;\n",
       "    }\n",
       "\n",
       "    .dataframe thead th {\n",
       "        text-align: right;\n",
       "    }\n",
       "</style>\n",
       "<table border=\"1\" class=\"dataframe\">\n",
       "  <thead>\n",
       "    <tr style=\"text-align: right;\">\n",
       "      <th></th>\n",
       "      <th>Client</th>\n",
       "      <th>User Count</th>\n",
       "    </tr>\n",
       "  </thead>\n",
       "  <tbody>\n",
       "    <tr>\n",
       "      <th>count</th>\n",
       "      <td>7.110000e+02</td>\n",
       "      <td>555.000000</td>\n",
       "    </tr>\n",
       "    <tr>\n",
       "      <th>mean</th>\n",
       "      <td>5.859930e+06</td>\n",
       "      <td>132.178378</td>\n",
       "    </tr>\n",
       "    <tr>\n",
       "      <th>std</th>\n",
       "      <td>2.300020e+06</td>\n",
       "      <td>853.721582</td>\n",
       "    </tr>\n",
       "    <tr>\n",
       "      <th>min</th>\n",
       "      <td>1.720710e+06</td>\n",
       "      <td>0.000000</td>\n",
       "    </tr>\n",
       "    <tr>\n",
       "      <th>25%</th>\n",
       "      <td>3.865016e+06</td>\n",
       "      <td>8.000000</td>\n",
       "    </tr>\n",
       "    <tr>\n",
       "      <th>50%</th>\n",
       "      <td>6.056809e+06</td>\n",
       "      <td>20.000000</td>\n",
       "    </tr>\n",
       "    <tr>\n",
       "      <th>75%</th>\n",
       "      <td>7.802822e+06</td>\n",
       "      <td>60.500000</td>\n",
       "    </tr>\n",
       "    <tr>\n",
       "      <th>max</th>\n",
       "      <td>9.711145e+06</td>\n",
       "      <td>9999.000000</td>\n",
       "    </tr>\n",
       "  </tbody>\n",
       "</table>\n",
       "</div>"
      ],
      "text/plain": [
       "             Client   User Count\n",
       "count  7.110000e+02   555.000000\n",
       "mean   5.859930e+06   132.178378\n",
       "std    2.300020e+06   853.721582\n",
       "min    1.720710e+06     0.000000\n",
       "25%    3.865016e+06     8.000000\n",
       "50%    6.056809e+06    20.000000\n",
       "75%    7.802822e+06    60.500000\n",
       "max    9.711145e+06  9999.000000"
      ]
     },
     "execution_count": 4,
     "metadata": {},
     "output_type": "execute_result"
    }
   ],
   "source": [
    "print(df.columns)\n",
    "print(df.info())\n",
    "df.describe()"
   ]
  },
  {
   "cell_type": "code",
   "execution_count": 5,
   "id": "b1c73f17",
   "metadata": {
    "execution": {
     "iopub.execute_input": "2023-02-11T15:12:30.298302Z",
     "iopub.status.busy": "2023-02-11T15:12:30.297408Z",
     "iopub.status.idle": "2023-02-11T15:12:30.304838Z",
     "shell.execute_reply": "2023-02-11T15:12:30.303595Z"
    },
    "papermill": {
     "duration": 0.023647,
     "end_time": "2023-02-11T15:12:30.307501",
     "exception": false,
     "start_time": "2023-02-11T15:12:30.283854",
     "status": "completed"
    },
    "tags": []
   },
   "outputs": [],
   "source": [
    "df.rename(columns={'User Count':'User_Count','Commodities_Traded__c':'Commodities_Traded' },inplace=True)"
   ]
  },
  {
   "cell_type": "code",
   "execution_count": 6,
   "id": "cb16f9b4",
   "metadata": {
    "execution": {
     "iopub.execute_input": "2023-02-11T15:12:30.329911Z",
     "iopub.status.busy": "2023-02-11T15:12:30.329121Z",
     "iopub.status.idle": "2023-02-11T15:12:30.346048Z",
     "shell.execute_reply": "2023-02-11T15:12:30.344476Z"
    },
    "papermill": {
     "duration": 0.031891,
     "end_time": "2023-02-11T15:12:30.349252",
     "exception": false,
     "start_time": "2023-02-11T15:12:30.317361",
     "status": "completed"
    },
    "tags": []
   },
   "outputs": [
    {
     "data": {
      "text/html": [
       "<div>\n",
       "<style scoped>\n",
       "    .dataframe tbody tr th:only-of-type {\n",
       "        vertical-align: middle;\n",
       "    }\n",
       "\n",
       "    .dataframe tbody tr th {\n",
       "        vertical-align: top;\n",
       "    }\n",
       "\n",
       "    .dataframe thead th {\n",
       "        text-align: right;\n",
       "    }\n",
       "</style>\n",
       "<table border=\"1\" class=\"dataframe\">\n",
       "  <thead>\n",
       "    <tr style=\"text-align: right;\">\n",
       "      <th></th>\n",
       "      <th>Client</th>\n",
       "      <th>Solution</th>\n",
       "      <th>Industry</th>\n",
       "      <th>Sector</th>\n",
       "      <th>Region</th>\n",
       "      <th>User_Count</th>\n",
       "      <th>Commodities_Traded</th>\n",
       "    </tr>\n",
       "  </thead>\n",
       "  <tbody>\n",
       "    <tr>\n",
       "      <th>0</th>\n",
       "      <td>6085551</td>\n",
       "      <td>Agtech</td>\n",
       "      <td>Agriculture &amp; CPG</td>\n",
       "      <td>Processor</td>\n",
       "      <td>Americas</td>\n",
       "      <td>7.0</td>\n",
       "      <td>Grains &amp; Oilseeds;Biofuels;C&amp;S (RINs, LCFS, RTFO)</td>\n",
       "    </tr>\n",
       "    <tr>\n",
       "      <th>1</th>\n",
       "      <td>9545824</td>\n",
       "      <td>Agtech</td>\n",
       "      <td>Agriculture &amp; CPG</td>\n",
       "      <td>Originator</td>\n",
       "      <td>Americas</td>\n",
       "      <td>3.0</td>\n",
       "      <td>Grains &amp; Oilseeds</td>\n",
       "    </tr>\n",
       "    <tr>\n",
       "      <th>2</th>\n",
       "      <td>8676609</td>\n",
       "      <td>Agtech</td>\n",
       "      <td>Agriculture &amp; CPG</td>\n",
       "      <td>Trader</td>\n",
       "      <td>Americas</td>\n",
       "      <td>40.0</td>\n",
       "      <td>Grains &amp; Oilseeds</td>\n",
       "    </tr>\n",
       "    <tr>\n",
       "      <th>3</th>\n",
       "      <td>5760132</td>\n",
       "      <td>Agtech</td>\n",
       "      <td>Agriculture &amp; CPG</td>\n",
       "      <td>Processor</td>\n",
       "      <td>Americas</td>\n",
       "      <td>20.0</td>\n",
       "      <td>Grains &amp; Oilseeds;Biofuels;C&amp;S (RINs, LCFS, RTFO)</td>\n",
       "    </tr>\n",
       "    <tr>\n",
       "      <th>4</th>\n",
       "      <td>1720710</td>\n",
       "      <td>Allegro</td>\n",
       "      <td>Utilities &amp; Power</td>\n",
       "      <td>Utility</td>\n",
       "      <td>Americas</td>\n",
       "      <td>75.0</td>\n",
       "      <td>Power - Americas;Emissions;C&amp;S (RINs, LCFS, RTFO)</td>\n",
       "    </tr>\n",
       "  </tbody>\n",
       "</table>\n",
       "</div>"
      ],
      "text/plain": [
       "    Client Solution           Industry      Sector    Region  User_Count  \\\n",
       "0  6085551   Agtech  Agriculture & CPG   Processor  Americas         7.0   \n",
       "1  9545824   Agtech  Agriculture & CPG  Originator  Americas         3.0   \n",
       "2  8676609   Agtech  Agriculture & CPG      Trader  Americas        40.0   \n",
       "3  5760132   Agtech  Agriculture & CPG   Processor  Americas        20.0   \n",
       "4  1720710  Allegro  Utilities & Power     Utility  Americas        75.0   \n",
       "\n",
       "                                  Commodities_Traded  \n",
       "0  Grains & Oilseeds;Biofuels;C&S (RINs, LCFS, RTFO)  \n",
       "1                                  Grains & Oilseeds  \n",
       "2                                  Grains & Oilseeds  \n",
       "3  Grains & Oilseeds;Biofuels;C&S (RINs, LCFS, RTFO)  \n",
       "4  Power - Americas;Emissions;C&S (RINs, LCFS, RTFO)  "
      ]
     },
     "execution_count": 6,
     "metadata": {},
     "output_type": "execute_result"
    }
   ],
   "source": [
    "df.drop('Delivery',axis=1, inplace=True)\n",
    "df.head()"
   ]
  },
  {
   "cell_type": "code",
   "execution_count": 7,
   "id": "43b23608",
   "metadata": {
    "execution": {
     "iopub.execute_input": "2023-02-11T15:12:30.380396Z",
     "iopub.status.busy": "2023-02-11T15:12:30.379584Z",
     "iopub.status.idle": "2023-02-11T15:12:30.395835Z",
     "shell.execute_reply": "2023-02-11T15:12:30.394243Z"
    },
    "papermill": {
     "duration": 0.033195,
     "end_time": "2023-02-11T15:12:30.400009",
     "exception": false,
     "start_time": "2023-02-11T15:12:30.366814",
     "status": "completed"
    },
    "tags": []
   },
   "outputs": [
    {
     "name": "stdout",
     "output_type": "stream",
     "text": [
      "<class 'pandas.core.frame.DataFrame'>\n",
      "RangeIndex: 711 entries, 0 to 710\n",
      "Data columns (total 7 columns):\n",
      " #   Column              Non-Null Count  Dtype  \n",
      "---  ------              --------------  -----  \n",
      " 0   Client              711 non-null    int64  \n",
      " 1   Solution            711 non-null    object \n",
      " 2   Industry            711 non-null    object \n",
      " 3   Sector              711 non-null    object \n",
      " 4   Region              711 non-null    object \n",
      " 5   User_Count          555 non-null    float64\n",
      " 6   Commodities_Traded  624 non-null    object \n",
      "dtypes: float64(1), int64(1), object(5)\n",
      "memory usage: 39.0+ KB\n"
     ]
    }
   ],
   "source": [
    "df.info()"
   ]
  },
  {
   "cell_type": "code",
   "execution_count": 8,
   "id": "27aeffa3",
   "metadata": {
    "execution": {
     "iopub.execute_input": "2023-02-11T15:12:30.427836Z",
     "iopub.status.busy": "2023-02-11T15:12:30.426969Z",
     "iopub.status.idle": "2023-02-11T15:12:30.448213Z",
     "shell.execute_reply": "2023-02-11T15:12:30.446585Z"
    },
    "papermill": {
     "duration": 0.036322,
     "end_time": "2023-02-11T15:12:30.451570",
     "exception": false,
     "start_time": "2023-02-11T15:12:30.415248",
     "status": "completed"
    },
    "tags": []
   },
   "outputs": [
    {
     "name": "stdout",
     "output_type": "stream",
     "text": [
      "<class 'pandas.core.frame.DataFrame'>\n",
      "RangeIndex: 555 entries, 0 to 554\n",
      "Data columns (total 7 columns):\n",
      " #   Column              Non-Null Count  Dtype  \n",
      "---  ------              --------------  -----  \n",
      " 0   Client              555 non-null    int64  \n",
      " 1   Solution            555 non-null    object \n",
      " 2   Industry            555 non-null    object \n",
      " 3   Sector              555 non-null    object \n",
      " 4   Region              555 non-null    object \n",
      " 5   User_Count          555 non-null    float64\n",
      " 6   Commodities_Traded  552 non-null    object \n",
      "dtypes: float64(1), int64(1), object(5)\n",
      "memory usage: 30.5+ KB\n"
     ]
    }
   ],
   "source": [
    "df_p = df.dropna(subset=['User_Count'])\n",
    "df_p.reset_index(drop=True, inplace=True)\n",
    "df_p.info()"
   ]
  },
  {
   "cell_type": "code",
   "execution_count": 9,
   "id": "cb534734",
   "metadata": {
    "execution": {
     "iopub.execute_input": "2023-02-11T15:12:30.474734Z",
     "iopub.status.busy": "2023-02-11T15:12:30.473922Z",
     "iopub.status.idle": "2023-02-11T15:12:30.486555Z",
     "shell.execute_reply": "2023-02-11T15:12:30.485078Z"
    },
    "papermill": {
     "duration": 0.028424,
     "end_time": "2023-02-11T15:12:30.490381",
     "exception": false,
     "start_time": "2023-02-11T15:12:30.461957",
     "status": "completed"
    },
    "tags": []
   },
   "outputs": [
    {
     "name": "stdout",
     "output_type": "stream",
     "text": [
      "Column_ID VS Unique_Values\n",
      "\n",
      "Client ------------------- 555\n",
      "Solution ----------------- 4\n",
      "Industry ----------------- 15\n",
      "Sector ------------------- 31\n",
      "Region ------------------- 3\n",
      "User_Count --------------- 142\n",
      "Commodities_Traded ------- 173\n"
     ]
    }
   ],
   "source": [
    "def count_unique(df):\n",
    "    print(\"Column_ID VS Unique_Values\\n\")\n",
    "    for i in df.columns:\n",
    "        print(i,\"-\"*(25-(len(i))),df[i].nunique())\n",
    "count_unique(df_p)"
   ]
  },
  {
   "cell_type": "code",
   "execution_count": 10,
   "id": "9fc0f199",
   "metadata": {
    "execution": {
     "iopub.execute_input": "2023-02-11T15:12:30.514089Z",
     "iopub.status.busy": "2023-02-11T15:12:30.513193Z",
     "iopub.status.idle": "2023-02-11T15:12:30.758748Z",
     "shell.execute_reply": "2023-02-11T15:12:30.757499Z"
    },
    "papermill": {
     "duration": 0.26081,
     "end_time": "2023-02-11T15:12:30.761868",
     "exception": false,
     "start_time": "2023-02-11T15:12:30.501058",
     "status": "completed"
    },
    "tags": []
   },
   "outputs": [
    {
     "data": {
      "image/png": "[encoded data removed]",
      "text/plain": [
       "<Figure size 720x504 with 1 Axes>"
      ]
     },
     "metadata": {
      "needs_background": "light"
     },
     "output_type": "display_data"
    }
   ],
   "source": [
    "plt.figure(figsize=(10,7))\n",
    "ax=sns.countplot(data = df_p, x=\"Solution\",palette=\"husl\")\n",
    "ax.set(xlabel='Solution(Product)', ylabel='No. of Companies', title='Distribtuion of Product')\n",
    "plt.show()\n"
   ]
  },
  {
   "cell_type": "markdown",
   "id": "0fb51230",
   "metadata": {
    "papermill": {
     "duration": 0.010044,
     "end_time": "2023-02-11T15:12:30.787292",
     "exception": false,
     "start_time": "2023-02-11T15:12:30.777248",
     "status": "completed"
    },
    "tags": []
   },
   "source": [
    "Interpretation: Most of the customers use Agtech"
   ]
  },
  {
   "cell_type": "code",
   "execution_count": 11,
   "id": "36ccbd2b",
   "metadata": {
    "execution": {
     "iopub.execute_input": "2023-02-11T15:12:30.810249Z",
     "iopub.status.busy": "2023-02-11T15:12:30.809364Z",
     "iopub.status.idle": "2023-02-11T15:12:31.082209Z",
     "shell.execute_reply": "2023-02-11T15:12:31.080748Z"
    },
    "papermill": {
     "duration": 0.290829,
     "end_time": "2023-02-11T15:12:31.088463",
     "exception": false,
     "start_time": "2023-02-11T15:12:30.797634",
     "status": "completed"
    },
    "tags": []
   },
   "outputs": [
    {
     "data": {
      "image/png": "[encoded data removed]",
      "text/plain": [
       "<Figure size 720x720 with 1 Axes>"
      ]
     },
     "metadata": {},
     "output_type": "display_data"
    }
   ],
   "source": [
    "plt.figure(figsize=(10,10))\n",
    "plt.pie(df_p['Industry'].value_counts(),labels = df_p['Industry'].value_counts().index)\n",
    "plt.show()"
   ]
  },
  {
   "cell_type": "markdown",
   "id": "cabfbd82",
   "metadata": {
    "papermill": {
     "duration": 0.01141,
     "end_time": "2023-02-11T15:12:31.112601",
     "exception": false,
     "start_time": "2023-02-11T15:12:31.101191",
     "status": "completed"
    },
    "tags": []
   },
   "source": [
    "Interpretation: Most of the Customers belong to Agriculture followed by Utitlies&Power"
   ]
  },
  {
   "cell_type": "code",
   "execution_count": 12,
   "id": "140da192",
   "metadata": {
    "execution": {
     "iopub.execute_input": "2023-02-11T15:12:31.139269Z",
     "iopub.status.busy": "2023-02-11T15:12:31.138751Z",
     "iopub.status.idle": "2023-02-11T15:12:31.501035Z",
     "shell.execute_reply": "2023-02-11T15:12:31.499639Z"
    },
    "papermill": {
     "duration": 0.379141,
     "end_time": "2023-02-11T15:12:31.504133",
     "exception": false,
     "start_time": "2023-02-11T15:12:31.124992",
     "status": "completed"
    },
    "tags": []
   },
   "outputs": [
    {
     "data": {
      "image/png": "[encoded data removed]",
      "text/plain": [
       "<Figure size 648x432 with 1 Axes>"
      ]
     },
     "metadata": {
      "needs_background": "light"
     },
     "output_type": "display_data"
    }
   ],
   "source": [
    "sns.catplot(data=df_p, x=\"Solution\", y=\"Industry\", kind=\"strip\", height=6, aspect=1.5)\n",
    "plt.show()"
   ]
  },
  {
   "cell_type": "markdown",
   "id": "85de1f47",
   "metadata": {
    "papermill": {
     "duration": 0.012925,
     "end_time": "2023-02-11T15:12:31.531179",
     "exception": false,
     "start_time": "2023-02-11T15:12:31.518254",
     "status": "completed"
    },
    "tags": []
   },
   "source": [
    "Interpretation: Agtech is the goto Solution for Agriculture and CP, whereas RightAngle is widely used by companies in the industries of Refining, Oil & Gas."
   ]
  },
  {
   "cell_type": "code",
   "execution_count": 13,
   "id": "e8d6c43a",
   "metadata": {
    "execution": {
     "iopub.execute_input": "2023-02-11T15:12:31.560389Z",
     "iopub.status.busy": "2023-02-11T15:12:31.559044Z",
     "iopub.status.idle": "2023-02-11T15:12:31.565771Z",
     "shell.execute_reply": "2023-02-11T15:12:31.564087Z"
    },
    "papermill": {
     "duration": 0.025288,
     "end_time": "2023-02-11T15:12:31.569013",
     "exception": false,
     "start_time": "2023-02-11T15:12:31.543725",
     "status": "completed"
    },
    "tags": []
   },
   "outputs": [],
   "source": [
    "# from plotnine import ggplot, aes, geom_point\n",
    "# ggplot(df_p) + aes(x=\"Solution\", y=\"Industry\")+ geom_point()"
   ]
  },
  {
   "cell_type": "code",
   "execution_count": 14,
   "id": "5569c596",
   "metadata": {
    "execution": {
     "iopub.execute_input": "2023-02-11T15:12:31.595807Z",
     "iopub.status.busy": "2023-02-11T15:12:31.595067Z",
     "iopub.status.idle": "2023-02-11T15:12:31.783477Z",
     "shell.execute_reply": "2023-02-11T15:12:31.781919Z"
    },
    "papermill": {
     "duration": 0.204959,
     "end_time": "2023-02-11T15:12:31.786245",
     "exception": false,
     "start_time": "2023-02-11T15:12:31.581286",
     "status": "completed"
    },
    "tags": []
   },
   "outputs": [
    {
     "data": {
      "image/png": "[encoded data removed]",
      "text/plain": [
       "<Figure size 576x360 with 1 Axes>"
      ]
     },
     "metadata": {
      "needs_background": "light"
     },
     "output_type": "display_data"
    }
   ],
   "source": [
    "names = df_p[\"Region\"].value_counts().keys()\n",
    "counts = df_p[\"Region\"].value_counts().values\n",
    "plt.subplots(figsize=(8, 5))\n",
    "plt.bar(names, counts, color=\"orange\")\n",
    "plt.xlabel(\"Region\")\n",
    "plt.ylabel(\"No of Companies\")\n",
    "plt.title(\"Distribtuion of Region\")\n",
    "plt.show()"
   ]
  },
  {
   "cell_type": "markdown",
   "id": "49ec3628",
   "metadata": {
    "papermill": {
     "duration": 0.011981,
     "end_time": "2023-02-11T15:12:31.810966",
     "exception": false,
     "start_time": "2023-02-11T15:12:31.798985",
     "status": "completed"
    },
    "tags": []
   },
   "source": [
    "Interpretation: Most of the companies using our Solution belong to Americas"
   ]
  },
  {
   "cell_type": "code",
   "execution_count": 15,
   "id": "10b1b839",
   "metadata": {
    "execution": {
     "iopub.execute_input": "2023-02-11T15:12:31.837675Z",
     "iopub.status.busy": "2023-02-11T15:12:31.836905Z",
     "iopub.status.idle": "2023-02-11T15:12:32.156436Z",
     "shell.execute_reply": "2023-02-11T15:12:32.154517Z"
    },
    "papermill": {
     "duration": 0.337162,
     "end_time": "2023-02-11T15:12:32.160385",
     "exception": false,
     "start_time": "2023-02-11T15:12:31.823223",
     "status": "completed"
    },
    "tags": []
   },
   "outputs": [
    {
     "data": {
      "image/png": "[encoded data removed]",
      "text/plain": [
       "<Figure size 720x432 with 1 Axes>"
      ]
     },
     "metadata": {
      "needs_background": "light"
     },
     "output_type": "display_data"
    }
   ],
   "source": [
    "plt.figure(figsize=(10,6))\n",
    "ax=sns.barplot(data = df, x=\"User_Count\", y =\"Solution\" ,color='red')\n",
    "ax.set(xlabel='User Count', ylabel='Product', title='Distribtuion of Product')\n",
    "plt.show()"
   ]
  },
  {
   "cell_type": "markdown",
   "id": "ad1658c6",
   "metadata": {
    "papermill": {
     "duration": 0.012763,
     "end_time": "2023-02-11T15:12:32.186084",
     "exception": false,
     "start_time": "2023-02-11T15:12:32.173321",
     "status": "completed"
    },
    "tags": []
   },
   "source": [
    "Interpretation: In terms of User count Openlink and RightAngle tops."
   ]
  },
  {
   "cell_type": "markdown",
   "id": "f472dae6",
   "metadata": {
    "papermill": {
     "duration": 0.013194,
     "end_time": "2023-02-11T15:12:32.214102",
     "exception": false,
     "start_time": "2023-02-11T15:12:32.200908",
     "status": "completed"
    },
    "tags": []
   },
   "source": [
    "### Dealing with categorical variables \n",
    "1. One hot encoding\n",
    "2. Replace NAN values\n",
    "3. Rename columns\n",
    "4. Selection of target Variables"
   ]
  },
  {
   "cell_type": "code",
   "execution_count": 16,
   "id": "c4c8f209",
   "metadata": {
    "execution": {
     "iopub.execute_input": "2023-02-11T15:12:32.245912Z",
     "iopub.status.busy": "2023-02-11T15:12:32.245403Z",
     "iopub.status.idle": "2023-02-11T15:12:32.663136Z",
     "shell.execute_reply": "2023-02-11T15:12:32.661884Z"
    },
    "papermill": {
     "duration": 0.437088,
     "end_time": "2023-02-11T15:12:32.666281",
     "exception": false,
     "start_time": "2023-02-11T15:12:32.229193",
     "status": "completed"
    },
    "tags": []
   },
   "outputs": [
    {
     "data": {
      "text/html": [
       "<div>\n",
       "<style scoped>\n",
       "    .dataframe tbody tr th:only-of-type {\n",
       "        vertical-align: middle;\n",
       "    }\n",
       "\n",
       "    .dataframe tbody tr th {\n",
       "        vertical-align: top;\n",
       "    }\n",
       "\n",
       "    .dataframe thead th {\n",
       "        text-align: right;\n",
       "    }\n",
       "</style>\n",
       "<table border=\"1\" class=\"dataframe\">\n",
       "  <thead>\n",
       "    <tr style=\"text-align: right;\">\n",
       "      <th></th>\n",
       "      <th>Industry_1</th>\n",
       "      <th>Industry_2</th>\n",
       "      <th>Industry_3</th>\n",
       "      <th>Industry_4</th>\n",
       "      <th>Industry_5</th>\n",
       "      <th>Industry_6</th>\n",
       "      <th>Industry_7</th>\n",
       "      <th>Industry_8</th>\n",
       "      <th>Industry_9</th>\n",
       "      <th>Industry_10</th>\n",
       "      <th>Industry_11</th>\n",
       "      <th>Industry_12</th>\n",
       "      <th>Industry_13</th>\n",
       "      <th>Industry_14</th>\n",
       "      <th>Industry_15</th>\n",
       "      <th>Region_1</th>\n",
       "      <th>Region_2</th>\n",
       "      <th>Region_3</th>\n",
       "    </tr>\n",
       "  </thead>\n",
       "  <tbody>\n",
       "    <tr>\n",
       "      <th>0</th>\n",
       "      <td>1</td>\n",
       "      <td>0</td>\n",
       "      <td>0</td>\n",
       "      <td>0</td>\n",
       "      <td>0</td>\n",
       "      <td>0</td>\n",
       "      <td>0</td>\n",
       "      <td>0</td>\n",
       "      <td>0</td>\n",
       "      <td>0</td>\n",
       "      <td>0</td>\n",
       "      <td>0</td>\n",
       "      <td>0</td>\n",
       "      <td>0</td>\n",
       "      <td>0</td>\n",
       "      <td>1</td>\n",
       "      <td>0</td>\n",
       "      <td>0</td>\n",
       "    </tr>\n",
       "    <tr>\n",
       "      <th>1</th>\n",
       "      <td>1</td>\n",
       "      <td>0</td>\n",
       "      <td>0</td>\n",
       "      <td>0</td>\n",
       "      <td>0</td>\n",
       "      <td>0</td>\n",
       "      <td>0</td>\n",
       "      <td>0</td>\n",
       "      <td>0</td>\n",
       "      <td>0</td>\n",
       "      <td>0</td>\n",
       "      <td>0</td>\n",
       "      <td>0</td>\n",
       "      <td>0</td>\n",
       "      <td>0</td>\n",
       "      <td>1</td>\n",
       "      <td>0</td>\n",
       "      <td>0</td>\n",
       "    </tr>\n",
       "    <tr>\n",
       "      <th>2</th>\n",
       "      <td>1</td>\n",
       "      <td>0</td>\n",
       "      <td>0</td>\n",
       "      <td>0</td>\n",
       "      <td>0</td>\n",
       "      <td>0</td>\n",
       "      <td>0</td>\n",
       "      <td>0</td>\n",
       "      <td>0</td>\n",
       "      <td>0</td>\n",
       "      <td>0</td>\n",
       "      <td>0</td>\n",
       "      <td>0</td>\n",
       "      <td>0</td>\n",
       "      <td>0</td>\n",
       "      <td>1</td>\n",
       "      <td>0</td>\n",
       "      <td>0</td>\n",
       "    </tr>\n",
       "    <tr>\n",
       "      <th>3</th>\n",
       "      <td>1</td>\n",
       "      <td>0</td>\n",
       "      <td>0</td>\n",
       "      <td>0</td>\n",
       "      <td>0</td>\n",
       "      <td>0</td>\n",
       "      <td>0</td>\n",
       "      <td>0</td>\n",
       "      <td>0</td>\n",
       "      <td>0</td>\n",
       "      <td>0</td>\n",
       "      <td>0</td>\n",
       "      <td>0</td>\n",
       "      <td>0</td>\n",
       "      <td>0</td>\n",
       "      <td>1</td>\n",
       "      <td>0</td>\n",
       "      <td>0</td>\n",
       "    </tr>\n",
       "    <tr>\n",
       "      <th>4</th>\n",
       "      <td>0</td>\n",
       "      <td>1</td>\n",
       "      <td>0</td>\n",
       "      <td>0</td>\n",
       "      <td>0</td>\n",
       "      <td>0</td>\n",
       "      <td>0</td>\n",
       "      <td>0</td>\n",
       "      <td>0</td>\n",
       "      <td>0</td>\n",
       "      <td>0</td>\n",
       "      <td>0</td>\n",
       "      <td>0</td>\n",
       "      <td>0</td>\n",
       "      <td>0</td>\n",
       "      <td>1</td>\n",
       "      <td>0</td>\n",
       "      <td>0</td>\n",
       "    </tr>\n",
       "    <tr>\n",
       "      <th>...</th>\n",
       "      <td>...</td>\n",
       "      <td>...</td>\n",
       "      <td>...</td>\n",
       "      <td>...</td>\n",
       "      <td>...</td>\n",
       "      <td>...</td>\n",
       "      <td>...</td>\n",
       "      <td>...</td>\n",
       "      <td>...</td>\n",
       "      <td>...</td>\n",
       "      <td>...</td>\n",
       "      <td>...</td>\n",
       "      <td>...</td>\n",
       "      <td>...</td>\n",
       "      <td>...</td>\n",
       "      <td>...</td>\n",
       "      <td>...</td>\n",
       "      <td>...</td>\n",
       "    </tr>\n",
       "    <tr>\n",
       "      <th>550</th>\n",
       "      <td>1</td>\n",
       "      <td>0</td>\n",
       "      <td>0</td>\n",
       "      <td>0</td>\n",
       "      <td>0</td>\n",
       "      <td>0</td>\n",
       "      <td>0</td>\n",
       "      <td>0</td>\n",
       "      <td>0</td>\n",
       "      <td>0</td>\n",
       "      <td>0</td>\n",
       "      <td>0</td>\n",
       "      <td>0</td>\n",
       "      <td>0</td>\n",
       "      <td>0</td>\n",
       "      <td>1</td>\n",
       "      <td>0</td>\n",
       "      <td>0</td>\n",
       "    </tr>\n",
       "    <tr>\n",
       "      <th>551</th>\n",
       "      <td>0</td>\n",
       "      <td>0</td>\n",
       "      <td>0</td>\n",
       "      <td>0</td>\n",
       "      <td>0</td>\n",
       "      <td>0</td>\n",
       "      <td>0</td>\n",
       "      <td>0</td>\n",
       "      <td>0</td>\n",
       "      <td>0</td>\n",
       "      <td>0</td>\n",
       "      <td>0</td>\n",
       "      <td>0</td>\n",
       "      <td>1</td>\n",
       "      <td>0</td>\n",
       "      <td>1</td>\n",
       "      <td>0</td>\n",
       "      <td>0</td>\n",
       "    </tr>\n",
       "    <tr>\n",
       "      <th>552</th>\n",
       "      <td>1</td>\n",
       "      <td>0</td>\n",
       "      <td>0</td>\n",
       "      <td>0</td>\n",
       "      <td>0</td>\n",
       "      <td>0</td>\n",
       "      <td>0</td>\n",
       "      <td>0</td>\n",
       "      <td>0</td>\n",
       "      <td>0</td>\n",
       "      <td>0</td>\n",
       "      <td>0</td>\n",
       "      <td>0</td>\n",
       "      <td>0</td>\n",
       "      <td>0</td>\n",
       "      <td>1</td>\n",
       "      <td>0</td>\n",
       "      <td>0</td>\n",
       "    </tr>\n",
       "    <tr>\n",
       "      <th>553</th>\n",
       "      <td>1</td>\n",
       "      <td>0</td>\n",
       "      <td>0</td>\n",
       "      <td>0</td>\n",
       "      <td>0</td>\n",
       "      <td>0</td>\n",
       "      <td>0</td>\n",
       "      <td>0</td>\n",
       "      <td>0</td>\n",
       "      <td>0</td>\n",
       "      <td>0</td>\n",
       "      <td>0</td>\n",
       "      <td>0</td>\n",
       "      <td>0</td>\n",
       "      <td>0</td>\n",
       "      <td>1</td>\n",
       "      <td>0</td>\n",
       "      <td>0</td>\n",
       "    </tr>\n",
       "    <tr>\n",
       "      <th>554</th>\n",
       "      <td>0</td>\n",
       "      <td>0</td>\n",
       "      <td>0</td>\n",
       "      <td>1</td>\n",
       "      <td>0</td>\n",
       "      <td>0</td>\n",
       "      <td>0</td>\n",
       "      <td>0</td>\n",
       "      <td>0</td>\n",
       "      <td>0</td>\n",
       "      <td>0</td>\n",
       "      <td>0</td>\n",
       "      <td>0</td>\n",
       "      <td>0</td>\n",
       "      <td>0</td>\n",
       "      <td>1</td>\n",
       "      <td>0</td>\n",
       "      <td>0</td>\n",
       "    </tr>\n",
       "  </tbody>\n",
       "</table>\n",
       "<p>555 rows × 18 columns</p>\n",
       "</div>"
      ],
      "text/plain": [
       "     Industry_1  Industry_2  Industry_3  Industry_4  Industry_5  Industry_6  \\\n",
       "0             1           0           0           0           0           0   \n",
       "1             1           0           0           0           0           0   \n",
       "2             1           0           0           0           0           0   \n",
       "3             1           0           0           0           0           0   \n",
       "4             0           1           0           0           0           0   \n",
       "..          ...         ...         ...         ...         ...         ...   \n",
       "550           1           0           0           0           0           0   \n",
       "551           0           0           0           0           0           0   \n",
       "552           1           0           0           0           0           0   \n",
       "553           1           0           0           0           0           0   \n",
       "554           0           0           0           1           0           0   \n",
       "\n",
       "     Industry_7  Industry_8  Industry_9  Industry_10  Industry_11  \\\n",
       "0             0           0           0            0            0   \n",
       "1             0           0           0            0            0   \n",
       "2             0           0           0            0            0   \n",
       "3             0           0           0            0            0   \n",
       "4             0           0           0            0            0   \n",
       "..          ...         ...         ...          ...          ...   \n",
       "550           0           0           0            0            0   \n",
       "551           0           0           0            0            0   \n",
       "552           0           0           0            0            0   \n",
       "553           0           0           0            0            0   \n",
       "554           0           0           0            0            0   \n",
       "\n",
       "     Industry_12  Industry_13  Industry_14  Industry_15  Region_1  Region_2  \\\n",
       "0              0            0            0            0         1         0   \n",
       "1              0            0            0            0         1         0   \n",
       "2              0            0            0            0         1         0   \n",
       "3              0            0            0            0         1         0   \n",
       "4              0            0            0            0         1         0   \n",
       "..           ...          ...          ...          ...       ...       ...   \n",
       "550            0            0            0            0         1         0   \n",
       "551            0            0            1            0         1         0   \n",
       "552            0            0            0            0         1         0   \n",
       "553            0            0            0            0         1         0   \n",
       "554            0            0            0            0         1         0   \n",
       "\n",
       "     Region_3  \n",
       "0           0  \n",
       "1           0  \n",
       "2           0  \n",
       "3           0  \n",
       "4           0  \n",
       "..        ...  \n",
       "550         0  \n",
       "551         0  \n",
       "552         0  \n",
       "553         0  \n",
       "554         0  \n",
       "\n",
       "[555 rows x 18 columns]"
      ]
     },
     "execution_count": 16,
     "metadata": {},
     "output_type": "execute_result"
    }
   ],
   "source": [
    "import category_encoders as ce\n",
    "one_hot = ce.OneHotEncoder(cols=['Industry','Region'])\n",
    "df_one_hot = one_hot.fit_transform(df_p[['Industry','Region']]).reset_index(drop=True)\n",
    "df_one_hot"
   ]
  },
  {
   "cell_type": "code",
   "execution_count": 17,
   "id": "855b6c00",
   "metadata": {
    "execution": {
     "iopub.execute_input": "2023-02-11T15:12:32.695698Z",
     "iopub.status.busy": "2023-02-11T15:12:32.694532Z",
     "iopub.status.idle": "2023-02-11T15:12:32.721367Z",
     "shell.execute_reply": "2023-02-11T15:12:32.720112Z"
    },
    "papermill": {
     "duration": 0.04413,
     "end_time": "2023-02-11T15:12:32.724117",
     "exception": false,
     "start_time": "2023-02-11T15:12:32.679987",
     "status": "completed"
    },
    "tags": []
   },
   "outputs": [
    {
     "data": {
      "text/html": [
       "<div>\n",
       "<style scoped>\n",
       "    .dataframe tbody tr th:only-of-type {\n",
       "        vertical-align: middle;\n",
       "    }\n",
       "\n",
       "    .dataframe tbody tr th {\n",
       "        vertical-align: top;\n",
       "    }\n",
       "\n",
       "    .dataframe thead th {\n",
       "        text-align: right;\n",
       "    }\n",
       "</style>\n",
       "<table border=\"1\" class=\"dataframe\">\n",
       "  <thead>\n",
       "    <tr style=\"text-align: right;\">\n",
       "      <th></th>\n",
       "      <th>Client</th>\n",
       "      <th>Solution</th>\n",
       "      <th>Sector</th>\n",
       "      <th>User_Count</th>\n",
       "      <th>Commodities_Traded</th>\n",
       "      <th>Industry_1</th>\n",
       "      <th>Industry_2</th>\n",
       "      <th>Industry_3</th>\n",
       "      <th>Industry_4</th>\n",
       "      <th>Industry_5</th>\n",
       "      <th>...</th>\n",
       "      <th>Industry_9</th>\n",
       "      <th>Industry_10</th>\n",
       "      <th>Industry_11</th>\n",
       "      <th>Industry_12</th>\n",
       "      <th>Industry_13</th>\n",
       "      <th>Industry_14</th>\n",
       "      <th>Industry_15</th>\n",
       "      <th>Region_1</th>\n",
       "      <th>Region_2</th>\n",
       "      <th>Region_3</th>\n",
       "    </tr>\n",
       "  </thead>\n",
       "  <tbody>\n",
       "    <tr>\n",
       "      <th>0</th>\n",
       "      <td>6085551</td>\n",
       "      <td>Agtech</td>\n",
       "      <td>Processor</td>\n",
       "      <td>7.0</td>\n",
       "      <td>Grains &amp; Oilseeds;Biofuels;C&amp;S (RINs, LCFS, RTFO)</td>\n",
       "      <td>1</td>\n",
       "      <td>0</td>\n",
       "      <td>0</td>\n",
       "      <td>0</td>\n",
       "      <td>0</td>\n",
       "      <td>...</td>\n",
       "      <td>0</td>\n",
       "      <td>0</td>\n",
       "      <td>0</td>\n",
       "      <td>0</td>\n",
       "      <td>0</td>\n",
       "      <td>0</td>\n",
       "      <td>0</td>\n",
       "      <td>1</td>\n",
       "      <td>0</td>\n",
       "      <td>0</td>\n",
       "    </tr>\n",
       "    <tr>\n",
       "      <th>1</th>\n",
       "      <td>9545824</td>\n",
       "      <td>Agtech</td>\n",
       "      <td>Originator</td>\n",
       "      <td>3.0</td>\n",
       "      <td>Grains &amp; Oilseeds</td>\n",
       "      <td>1</td>\n",
       "      <td>0</td>\n",
       "      <td>0</td>\n",
       "      <td>0</td>\n",
       "      <td>0</td>\n",
       "      <td>...</td>\n",
       "      <td>0</td>\n",
       "      <td>0</td>\n",
       "      <td>0</td>\n",
       "      <td>0</td>\n",
       "      <td>0</td>\n",
       "      <td>0</td>\n",
       "      <td>0</td>\n",
       "      <td>1</td>\n",
       "      <td>0</td>\n",
       "      <td>0</td>\n",
       "    </tr>\n",
       "    <tr>\n",
       "      <th>2</th>\n",
       "      <td>8676609</td>\n",
       "      <td>Agtech</td>\n",
       "      <td>Trader</td>\n",
       "      <td>40.0</td>\n",
       "      <td>Grains &amp; Oilseeds</td>\n",
       "      <td>1</td>\n",
       "      <td>0</td>\n",
       "      <td>0</td>\n",
       "      <td>0</td>\n",
       "      <td>0</td>\n",
       "      <td>...</td>\n",
       "      <td>0</td>\n",
       "      <td>0</td>\n",
       "      <td>0</td>\n",
       "      <td>0</td>\n",
       "      <td>0</td>\n",
       "      <td>0</td>\n",
       "      <td>0</td>\n",
       "      <td>1</td>\n",
       "      <td>0</td>\n",
       "      <td>0</td>\n",
       "    </tr>\n",
       "    <tr>\n",
       "      <th>3</th>\n",
       "      <td>5760132</td>\n",
       "      <td>Agtech</td>\n",
       "      <td>Processor</td>\n",
       "      <td>20.0</td>\n",
       "      <td>Grains &amp; Oilseeds;Biofuels;C&amp;S (RINs, LCFS, RTFO)</td>\n",
       "      <td>1</td>\n",
       "      <td>0</td>\n",
       "      <td>0</td>\n",
       "      <td>0</td>\n",
       "      <td>0</td>\n",
       "      <td>...</td>\n",
       "      <td>0</td>\n",
       "      <td>0</td>\n",
       "      <td>0</td>\n",
       "      <td>0</td>\n",
       "      <td>0</td>\n",
       "      <td>0</td>\n",
       "      <td>0</td>\n",
       "      <td>1</td>\n",
       "      <td>0</td>\n",
       "      <td>0</td>\n",
       "    </tr>\n",
       "    <tr>\n",
       "      <th>4</th>\n",
       "      <td>1720710</td>\n",
       "      <td>Allegro</td>\n",
       "      <td>Utility</td>\n",
       "      <td>75.0</td>\n",
       "      <td>Power - Americas;Emissions;C&amp;S (RINs, LCFS, RTFO)</td>\n",
       "      <td>0</td>\n",
       "      <td>1</td>\n",
       "      <td>0</td>\n",
       "      <td>0</td>\n",
       "      <td>0</td>\n",
       "      <td>...</td>\n",
       "      <td>0</td>\n",
       "      <td>0</td>\n",
       "      <td>0</td>\n",
       "      <td>0</td>\n",
       "      <td>0</td>\n",
       "      <td>0</td>\n",
       "      <td>0</td>\n",
       "      <td>1</td>\n",
       "      <td>0</td>\n",
       "      <td>0</td>\n",
       "    </tr>\n",
       "  </tbody>\n",
       "</table>\n",
       "<p>5 rows × 23 columns</p>\n",
       "</div>"
      ],
      "text/plain": [
       "    Client Solution      Sector  User_Count  \\\n",
       "0  6085551   Agtech   Processor         7.0   \n",
       "1  9545824   Agtech  Originator         3.0   \n",
       "2  8676609   Agtech      Trader        40.0   \n",
       "3  5760132   Agtech   Processor        20.0   \n",
       "4  1720710  Allegro     Utility        75.0   \n",
       "\n",
       "                                  Commodities_Traded  Industry_1  Industry_2  \\\n",
       "0  Grains & Oilseeds;Biofuels;C&S (RINs, LCFS, RTFO)           1           0   \n",
       "1                                  Grains & Oilseeds           1           0   \n",
       "2                                  Grains & Oilseeds           1           0   \n",
       "3  Grains & Oilseeds;Biofuels;C&S (RINs, LCFS, RTFO)           1           0   \n",
       "4  Power - Americas;Emissions;C&S (RINs, LCFS, RTFO)           0           1   \n",
       "\n",
       "   Industry_3  Industry_4  Industry_5  ...  Industry_9  Industry_10  \\\n",
       "0           0           0           0  ...           0            0   \n",
       "1           0           0           0  ...           0            0   \n",
       "2           0           0           0  ...           0            0   \n",
       "3           0           0           0  ...           0            0   \n",
       "4           0           0           0  ...           0            0   \n",
       "\n",
       "   Industry_11  Industry_12  Industry_13  Industry_14  Industry_15  Region_1  \\\n",
       "0            0            0            0            0            0         1   \n",
       "1            0            0            0            0            0         1   \n",
       "2            0            0            0            0            0         1   \n",
       "3            0            0            0            0            0         1   \n",
       "4            0            0            0            0            0         1   \n",
       "\n",
       "   Region_2  Region_3  \n",
       "0         0         0  \n",
       "1         0         0  \n",
       "2         0         0  \n",
       "3         0         0  \n",
       "4         0         0  \n",
       "\n",
       "[5 rows x 23 columns]"
      ]
     },
     "execution_count": 17,
     "metadata": {},
     "output_type": "execute_result"
    }
   ],
   "source": [
    "df_p = pd.concat([df_p,df_one_hot],axis=1).drop(['Industry','Region'],axis=1)\n",
    "df_p.head()"
   ]
  },
  {
   "cell_type": "code",
   "execution_count": 18,
   "id": "7320ad74",
   "metadata": {
    "execution": {
     "iopub.execute_input": "2023-02-11T15:12:32.754474Z",
     "iopub.status.busy": "2023-02-11T15:12:32.754073Z",
     "iopub.status.idle": "2023-02-11T15:12:32.769666Z",
     "shell.execute_reply": "2023-02-11T15:12:32.768657Z"
    },
    "papermill": {
     "duration": 0.034512,
     "end_time": "2023-02-11T15:12:32.772893",
     "exception": false,
     "start_time": "2023-02-11T15:12:32.738381",
     "status": "completed"
    },
    "tags": []
   },
   "outputs": [
    {
     "name": "stdout",
     "output_type": "stream",
     "text": [
      "<class 'pandas.core.frame.DataFrame'>\n",
      "RangeIndex: 555 entries, 0 to 554\n",
      "Data columns (total 23 columns):\n",
      " #   Column              Non-Null Count  Dtype  \n",
      "---  ------              --------------  -----  \n",
      " 0   Client              555 non-null    int64  \n",
      " 1   Solution            555 non-null    object \n",
      " 2   Sector              555 non-null    object \n",
      " 3   User_Count          555 non-null    float64\n",
      " 4   Commodities_Traded  552 non-null    object \n",
      " 5   Industry_1          555 non-null    int64  \n",
      " 6   Industry_2          555 non-null    int64  \n",
      " 7   Industry_3          555 non-null    int64  \n",
      " 8   Industry_4          555 non-null    int64  \n",
      " 9   Industry_5          555 non-null    int64  \n",
      " 10  Industry_6          555 non-null    int64  \n",
      " 11  Industry_7          555 non-null    int64  \n",
      " 12  Industry_8          555 non-null    int64  \n",
      " 13  Industry_9          555 non-null    int64  \n",
      " 14  Industry_10         555 non-null    int64  \n",
      " 15  Industry_11         555 non-null    int64  \n",
      " 16  Industry_12         555 non-null    int64  \n",
      " 17  Industry_13         555 non-null    int64  \n",
      " 18  Industry_14         555 non-null    int64  \n",
      " 19  Industry_15         555 non-null    int64  \n",
      " 20  Region_1            555 non-null    int64  \n",
      " 21  Region_2            555 non-null    int64  \n",
      " 22  Region_3            555 non-null    int64  \n",
      "dtypes: float64(1), int64(19), object(3)\n",
      "memory usage: 99.9+ KB\n"
     ]
    }
   ],
   "source": [
    "df_p.info()"
   ]
  },
  {
   "cell_type": "code",
   "execution_count": 19,
   "id": "7c8a2450",
   "metadata": {
    "execution": {
     "iopub.execute_input": "2023-02-11T15:12:32.804728Z",
     "iopub.status.busy": "2023-02-11T15:12:32.804270Z",
     "iopub.status.idle": "2023-02-11T15:12:32.814841Z",
     "shell.execute_reply": "2023-02-11T15:12:32.813524Z"
    },
    "papermill": {
     "duration": 0.02931,
     "end_time": "2023-02-11T15:12:32.817346",
     "exception": false,
     "start_time": "2023-02-11T15:12:32.788036",
     "status": "completed"
    },
    "tags": []
   },
   "outputs": [],
   "source": [
    "#Utitily Functions\n",
    "def plot_decision_boundary(model, X, y):\n",
    "    x1, x2 = X[:, 0], X[:, 1]\n",
    "    x1_min, x1_max = x1.min() - 1, x1.max() + 1\n",
    "    x2_min, x2_max = x2.min() - 1, x2.max() + 1\n",
    "    xx1, xx2 = np.meshgrid(np.arange(x1_min, x1_max, 0.1),\n",
    "                         np.arange(x2_min, x2_max, 0.1))\n",
    "\n",
    "    Z = model.predict(np.c_[xx1.ravel(), xx2.ravel()]).reshape(xx1.shape)\n",
    "\n",
    "    plt.contourf(xx1, xx2, Z, alpha=0.4)\n",
    "    plt.scatter(x1, x2, c=y, marker='o',\n",
    "                s=25, edgecolor='k');\n",
    "    \n",
    "def get_Prediction(model,imp_var,inp): #list of input vector\n",
    "    try:\n",
    "        Output_Class, Output_Class_Prob = None,None\n",
    "        Input=pd.DataFrame([inp],columns=imp_var) # input : [User_count]\n",
    "        Output_Class=model.predict(Input) # output:[class]\n",
    "        Output_Class_Prob=model.predict_proba(Input)\n",
    "        return Output_Class, Output_Class_Prob\n",
    "    except:\n",
    "        print(\"Length of input feature vector should be equal to imp_var!\")\n",
    "\n"
   ]
  },
  {
   "cell_type": "markdown",
   "id": "e236acd7",
   "metadata": {
    "papermill": {
     "duration": 0.014058,
     "end_time": "2023-02-11T15:12:32.846258",
     "exception": false,
     "start_time": "2023-02-11T15:12:32.832200",
     "status": "completed"
    },
    "tags": []
   },
   "source": [
    "# Classification Model\n",
    "- Random Forest Classifier\n",
    "- K-Nearest Neighbour Classifier"
   ]
  },
  {
   "cell_type": "markdown",
   "id": "151e6978",
   "metadata": {
    "papermill": {
     "duration": 0.013807,
     "end_time": "2023-02-11T15:12:32.874063",
     "exception": false,
     "start_time": "2023-02-11T15:12:32.860256",
     "status": "completed"
    },
    "tags": []
   },
   "source": [
    "#### Random Forest"
   ]
  },
  {
   "cell_type": "code",
   "execution_count": 20,
   "id": "bc3b694c",
   "metadata": {
    "execution": {
     "iopub.execute_input": "2023-02-11T15:12:32.905220Z",
     "iopub.status.busy": "2023-02-11T15:12:32.904340Z",
     "iopub.status.idle": "2023-02-11T15:12:33.302600Z",
     "shell.execute_reply": "2023-02-11T15:12:33.301121Z"
    },
    "papermill": {
     "duration": 0.417103,
     "end_time": "2023-02-11T15:12:33.305762",
     "exception": false,
     "start_time": "2023-02-11T15:12:32.888659",
     "status": "completed"
    },
    "tags": []
   },
   "outputs": [],
   "source": [
    "from sklearn import datasets\n",
    "from sklearn.model_selection import train_test_split\n",
    "from sklearn.ensemble import RandomForestClassifier\n",
    "from sklearn.datasets import make_classification\n",
    "import sklearn.metrics as metrics"
   ]
  },
  {
   "cell_type": "code",
   "execution_count": 21,
   "id": "f3005d54",
   "metadata": {
    "execution": {
     "iopub.execute_input": "2023-02-11T15:12:33.337049Z",
     "iopub.status.busy": "2023-02-11T15:12:33.336608Z",
     "iopub.status.idle": "2023-02-11T15:12:33.345467Z",
     "shell.execute_reply": "2023-02-11T15:12:33.343883Z"
    },
    "papermill": {
     "duration": 0.029948,
     "end_time": "2023-02-11T15:12:33.349489",
     "exception": false,
     "start_time": "2023-02-11T15:12:33.319541",
     "status": "completed"
    },
    "tags": []
   },
   "outputs": [
    {
     "data": {
      "text/plain": [
       "Index(['Client', 'Solution', 'Sector', 'User_Count', 'Commodities_Traded',\n",
       "       'Industry_1', 'Industry_2', 'Industry_3', 'Industry_4', 'Industry_5',\n",
       "       'Industry_6', 'Industry_7', 'Industry_8', 'Industry_9', 'Industry_10',\n",
       "       'Industry_11', 'Industry_12', 'Industry_13', 'Industry_14',\n",
       "       'Industry_15', 'Region_1', 'Region_2', 'Region_3'],\n",
       "      dtype='object')"
      ]
     },
     "execution_count": 21,
     "metadata": {},
     "output_type": "execute_result"
    }
   ],
   "source": [
    "df_p.columns"
   ]
  },
  {
   "cell_type": "code",
   "execution_count": 22,
   "id": "13ee31f9",
   "metadata": {
    "execution": {
     "iopub.execute_input": "2023-02-11T15:12:33.380804Z",
     "iopub.status.busy": "2023-02-11T15:12:33.380235Z",
     "iopub.status.idle": "2023-02-11T15:12:33.390752Z",
     "shell.execute_reply": "2023-02-11T15:12:33.389403Z"
    },
    "papermill": {
     "duration": 0.029619,
     "end_time": "2023-02-11T15:12:33.393864",
     "exception": false,
     "start_time": "2023-02-11T15:12:33.364245",
     "status": "completed"
    },
    "tags": []
   },
   "outputs": [],
   "source": [
    "# Set variables for the targets and features\n",
    "imp_var = [\"User_Count\",\"Region_1\",\"Region_2\",\"Region_3\",'Industry_6', 'Industry_7', 'Industry_8', 'Industry_9', 'Industry_10',\n",
    "       'Industry_11', 'Industry_12', 'Industry_13', 'Industry_14','Industry_15']\n",
    "X = df_p[imp_var]\n",
    "Y = df_p['Solution']\n",
    "\n",
    "\n",
    "# Split \n",
    "train_X, val_X, train_Y, val_Y = train_test_split(X, Y, random_state=7)"
   ]
  },
  {
   "cell_type": "code",
   "execution_count": 23,
   "id": "511323b1",
   "metadata": {
    "execution": {
     "iopub.execute_input": "2023-02-11T15:12:33.425260Z",
     "iopub.status.busy": "2023-02-11T15:12:33.424801Z",
     "iopub.status.idle": "2023-02-11T15:12:33.615245Z",
     "shell.execute_reply": "2023-02-11T15:12:33.614246Z"
    },
    "papermill": {
     "duration": 0.208305,
     "end_time": "2023-02-11T15:12:33.617575",
     "exception": false,
     "start_time": "2023-02-11T15:12:33.409270",
     "status": "completed"
    },
    "tags": []
   },
   "outputs": [
    {
     "data": {
      "text/plain": [
       "RandomForestClassifier(random_state=7)"
      ]
     },
     "execution_count": 23,
     "metadata": {},
     "output_type": "execute_result"
    }
   ],
   "source": [
    "model = RandomForestClassifier(random_state=7, n_estimators=100)\n",
    "model.fit(train_X, train_Y)"
   ]
  },
  {
   "cell_type": "markdown",
   "id": "ccbc3c30",
   "metadata": {
    "papermill": {
     "duration": 0.013746,
     "end_time": "2023-02-11T15:12:33.645808",
     "exception": false,
     "start_time": "2023-02-11T15:12:33.632062",
     "status": "completed"
    },
    "tags": []
   },
   "source": [
    "# Evaluation Metrics"
   ]
  },
  {
   "cell_type": "code",
   "execution_count": 24,
   "id": "fce6da70",
   "metadata": {
    "execution": {
     "iopub.execute_input": "2023-02-11T15:12:33.677324Z",
     "iopub.status.busy": "2023-02-11T15:12:33.675956Z",
     "iopub.status.idle": "2023-02-11T15:12:33.743135Z",
     "shell.execute_reply": "2023-02-11T15:12:33.741699Z"
    },
    "papermill": {
     "duration": 0.084983,
     "end_time": "2023-02-11T15:12:33.746080",
     "exception": false,
     "start_time": "2023-02-11T15:12:33.661097",
     "status": "completed"
    },
    "tags": []
   },
   "outputs": [
    {
     "name": "stdout",
     "output_type": "stream",
     "text": [
      "Accuracy of Random-Forest classifier on training set: 0.87\n",
      "Accuracy of Random-Forest classifier on test set: 0.50\n"
     ]
    }
   ],
   "source": [
    "# Accuracy\n",
    "pred_Y = model.predict(val_X)\n",
    "accuracy = metrics.accuracy_score(val_Y, pred_Y)\n",
    "print('Accuracy of Random-Forest classifier on training set: {:.2f}'\n",
    "     .format(model.score(train_X, train_Y)))\n",
    "print('Accuracy of Random-Forest classifier on test set: {:.2f}'\n",
    "     .format(model.score(val_X, val_Y)))"
   ]
  },
  {
   "cell_type": "code",
   "execution_count": 25,
   "id": "744eabcb",
   "metadata": {
    "execution": {
     "iopub.execute_input": "2023-02-11T15:12:33.776333Z",
     "iopub.status.busy": "2023-02-11T15:12:33.775881Z",
     "iopub.status.idle": "2023-02-11T15:12:34.092258Z",
     "shell.execute_reply": "2023-02-11T15:12:34.090982Z"
    },
    "papermill": {
     "duration": 0.335075,
     "end_time": "2023-02-11T15:12:34.094930",
     "exception": false,
     "start_time": "2023-02-11T15:12:33.759855",
     "status": "completed"
    },
    "tags": []
   },
   "outputs": [
    {
     "name": "stdout",
     "output_type": "stream",
     "text": [
      "Confusion matrix:\n",
      "[[46  7  4  2]\n",
      " [15 13  6  3]\n",
      " [ 3  9  6  3]\n",
      " [ 7  5  6  4]]\n",
      "\n",
      "Normalized confusion matrix:\n",
      "[0.77966102 0.11864407 0.06779661 0.03389831]\n",
      "[0.40540541 0.35135135 0.16216216 0.08108108]\n",
      "[0.14285714 0.42857143 0.28571429 0.14285714]\n",
      "[0.31818182 0.22727273 0.27272727 0.18181818]\n"
     ]
    },
    {
     "data": {
      "image/png": "[encoded data removed]",
      "text/plain": [
       "<Figure size 576x576 with 2 Axes>"
      ]
     },
     "metadata": {
      "needs_background": "light"
     },
     "output_type": "display_data"
    }
   ],
   "source": [
    "# Calculate the confusion matrix \n",
    "confusion = metrics.confusion_matrix(val_Y, pred_Y)\n",
    "print(f\"Confusion matrix:\\n{confusion}\")\n",
    "\n",
    "print(f\"\\nNormalized confusion matrix:\")\n",
    "for row in confusion:\n",
    "    print(row / row.sum())\n",
    "\n",
    "plt.figure(figsize=(8,8))\n",
    "ax=plt.subplot()\n",
    "metrics.ConfusionMatrixDisplay.from_predictions(val_Y,pred_Y,ax=ax)\n",
    "plt.show()\n"
   ]
  },
  {
   "cell_type": "code",
   "execution_count": 26,
   "id": "c014d853",
   "metadata": {
    "execution": {
     "iopub.execute_input": "2023-02-11T15:12:34.125314Z",
     "iopub.status.busy": "2023-02-11T15:12:34.124871Z",
     "iopub.status.idle": "2023-02-11T15:12:34.190805Z",
     "shell.execute_reply": "2023-02-11T15:12:34.189200Z"
    },
    "papermill": {
     "duration": 0.08437,
     "end_time": "2023-02-11T15:12:34.193698",
     "exception": false,
     "start_time": "2023-02-11T15:12:34.109328",
     "status": "completed"
    },
    "tags": []
   },
   "outputs": [
    {
     "name": "stdout",
     "output_type": "stream",
     "text": [
      "['Agtech'] [[0.52652778 0.         0.47347222 0.        ]]\n",
      "['Agtech'] [[0.52652778 0.         0.47347222 0.        ]]\n"
     ]
    }
   ],
   "source": [
    "\n",
    "Output_Class=model.predict(val_X.iloc[[0]]) # output:[class]\n",
    "Output_Class_Prob=model.predict_proba(val_X.iloc[[0]])\n",
    "print(Output_Class, Output_Class_Prob)\n",
    "\n",
    "Output_Class,Output_Class_Prob = get_Prediction(model,imp_var,val_X.iloc[0].tolist())\n",
    "print(Output_Class,Output_Class_Prob)# Output_Class_Prob)"
   ]
  },
  {
   "cell_type": "markdown",
   "id": "154f92db",
   "metadata": {
    "papermill": {
     "duration": 0.014385,
     "end_time": "2023-02-11T15:12:34.222709",
     "exception": false,
     "start_time": "2023-02-11T15:12:34.208324",
     "status": "completed"
    },
    "tags": []
   },
   "source": [
    "### KNN"
   ]
  },
  {
   "cell_type": "code",
   "execution_count": 27,
   "id": "2e4b6b8f",
   "metadata": {
    "execution": {
     "iopub.execute_input": "2023-02-11T15:12:34.253901Z",
     "iopub.status.busy": "2023-02-11T15:12:34.253461Z",
     "iopub.status.idle": "2023-02-11T15:12:34.296092Z",
     "shell.execute_reply": "2023-02-11T15:12:34.295069Z"
    },
    "papermill": {
     "duration": 0.061947,
     "end_time": "2023-02-11T15:12:34.299651",
     "exception": false,
     "start_time": "2023-02-11T15:12:34.237704",
     "status": "completed"
    },
    "tags": []
   },
   "outputs": [
    {
     "name": "stdout",
     "output_type": "stream",
     "text": [
      "Accuracy of K-NN classifier on training set: 0.62\n",
      "Accuracy of K-NN classifier on test set: 0.50\n",
      "['Agtech'] [[0.4 0.  0.4 0.2]]\n"
     ]
    }
   ],
   "source": [
    "from sklearn.neighbors import KNeighborsClassifier\n",
    "knn_clf = KNeighborsClassifier().fit(train_X, train_Y)\n",
    "\n",
    "print('Accuracy of K-NN classifier on training set: {:.2f}'\n",
    "     .format(knn_clf.score(train_X, train_Y)))\n",
    "print('Accuracy of K-NN classifier on test set: {:.2f}'\n",
    "     .format(knn_clf.score(val_X, val_Y)))\n",
    "\n",
    "Output_Class,Output_Class_Prob = get_Prediction(knn_clf,imp_var,val_X.iloc[0].tolist())\n",
    "print(Output_Class,Output_Class_Prob)# Output_Class_Prob)"
   ]
  },
  {
   "cell_type": "markdown",
   "id": "8c946515",
   "metadata": {
    "papermill": {
     "duration": 0.013752,
     "end_time": "2023-02-11T15:12:34.328424",
     "exception": false,
     "start_time": "2023-02-11T15:12:34.314672",
     "status": "completed"
    },
    "tags": []
   },
   "source": [
    "#"
   ]
  }
 ],
 "metadata": {
  "kernelspec": {
   "display_name": "Python 3",
   "language": "python",
   "name": "python3"
  },
  "language_info": {
   "codemirror_mode": {
    "name": "ipython",
    "version": 3
   },
   "file_extension": ".py",
   "mimetype": "text/x-python",
   "name": "python",
   "nbconvert_exporter": "python",
   "pygments_lexer": "ipython3",
   "version": "3.7.12"
  },
  "papermill": {
   "default_parameters": {},
   "duration": 17.044807,
   "end_time": "2023-02-11T15:12:35.267434",
   "environment_variables": {},
   "exception": null,
   "input_path": "__notebook__.ipynb",
   "output_path": "__notebook__.ipynb",
   "parameters": {},
   "start_time": "2023-02-11T15:12:18.222627",
   "version": "2.3.4"
  }
 },
 "nbformat": 4,
 "nbformat_minor": 5
}
